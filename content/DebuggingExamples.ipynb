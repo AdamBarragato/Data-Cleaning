{
 "cells": [
  {
   "cell_type": "markdown",
   "metadata": {},
   "source": [
    "# Module 5 Examples - Errors and Debugging"
   ]
  },
  {
   "cell_type": "code",
   "execution_count": 1,
   "metadata": {},
   "outputs": [],
   "source": [
    "import pandas as pd\n",
    "from IPython.core.interactiveshell import InteractiveShell\n",
    "InteractiveShell.ast_node_interactivity = \"all\"\n",
    "pd.options.display.max_columns = None\n",
    "listings = pd.read_csv('Chicago_airbnb_listings.csv')\n"
   ]
  },
  {
   "cell_type": "markdown",
   "metadata": {},
   "source": [
    "Syntax Errors will prevent your code from running:"
   ]
  },
  {
   "cell_type": "code",
   "execution_count": 4,
   "metadata": {},
   "outputs": [
    {
     "ename": "SyntaxError",
     "evalue": "invalid syntax (3353753814.py, line 3)",
     "output_type": "error",
     "traceback": [
      "\u001b[0;36m  Cell \u001b[0;32mIn[4], line 3\u001b[0;36m\u001b[0m\n\u001b[0;31m    percent(50,100)\u001b[0m\n\u001b[0m    ^\u001b[0m\n\u001b[0;31mSyntaxError\u001b[0m\u001b[0;31m:\u001b[0m invalid syntax\n"
     ]
    }
   ],
   "source": [
    "def percent(x,y):\n",
    "    return round((x/y*100,2)\n",
    "percent(50,100)"
   ]
  },
  {
   "cell_type": "markdown",
   "metadata": {},
   "source": [
    "Whereas other errors will throw exceptions that can be handled, if desired (but execution still stops in the meantime)"
   ]
  },
  {
   "cell_type": "code",
   "execution_count": 6,
   "metadata": {},
   "outputs": [
    {
     "ename": "ZeroDivisionError",
     "evalue": "division by zero",
     "output_type": "error",
     "traceback": [
      "\u001b[0;31m---------------------------------------------------------------------------\u001b[0m",
      "\u001b[0;31mZeroDivisionError\u001b[0m                         Traceback (most recent call last)",
      "Cell \u001b[0;32mIn[6], line 3\u001b[0m\n\u001b[1;32m      1\u001b[0m \u001b[38;5;28;01mdef\u001b[39;00m \u001b[38;5;21mpercent\u001b[39m(x,y):\n\u001b[1;32m      2\u001b[0m     \u001b[38;5;28;01mreturn\u001b[39;00m \u001b[38;5;28mround\u001b[39m(x\u001b[38;5;241m/\u001b[39my\u001b[38;5;241m*\u001b[39m\u001b[38;5;241m100\u001b[39m,\u001b[38;5;241m2\u001b[39m)\n\u001b[0;32m----> 3\u001b[0m \u001b[43mpercent\u001b[49m\u001b[43m(\u001b[49m\u001b[38;5;241;43m50\u001b[39;49m\u001b[43m,\u001b[49m\u001b[38;5;241;43m0\u001b[39;49m\u001b[43m)\u001b[49m\n",
      "Cell \u001b[0;32mIn[6], line 2\u001b[0m, in \u001b[0;36mpercent\u001b[0;34m(x, y)\u001b[0m\n\u001b[1;32m      1\u001b[0m \u001b[38;5;28;01mdef\u001b[39;00m \u001b[38;5;21mpercent\u001b[39m(x,y):\n\u001b[0;32m----> 2\u001b[0m     \u001b[38;5;28;01mreturn\u001b[39;00m \u001b[38;5;28mround\u001b[39m(\u001b[43mx\u001b[49m\u001b[38;5;241;43m/\u001b[39;49m\u001b[43my\u001b[49m\u001b[38;5;241m*\u001b[39m\u001b[38;5;241m100\u001b[39m,\u001b[38;5;241m2\u001b[39m)\n",
      "\u001b[0;31mZeroDivisionError\u001b[0m: division by zero"
     ]
    }
   ],
   "source": [
    "def percent(x,y):\n",
    "    return round(x/y*100,2)\n",
    "percent(50,0)"
   ]
  },
  {
   "cell_type": "markdown",
   "metadata": {},
   "source": [
    "While we could conceivably use if/else statements to handle this, it is more robust to use errors and exceptions. "
   ]
  },
  {
   "cell_type": "code",
   "execution_count": 8,
   "metadata": {},
   "outputs": [
    {
     "name": "stdout",
     "output_type": "stream",
     "text": [
      "Can't divide by zero -- pick another number!\n"
     ]
    }
   ],
   "source": [
    "#this example tries to run the code, but if it would throw an exception instead just prints a statement instead of blocking the execution of code\n",
    "def percent(x,y):\n",
    "    try:\n",
    "        return round(x/y*100,2)\n",
    "    except ZeroDivisionError:\n",
    "        print(\"Can't divide by zero -- pick another number!\")\n",
    "percent(50,0)"
   ]
  },
  {
   "cell_type": "markdown",
   "metadata": {},
   "source": [
    "As a generic solution, you can also except any exception for debugging purposes, but this is usually not the best solution in the long run because it can lead to things failing silently, particularly if you don't save the actual exception somewhere"
   ]
  },
  {
   "cell_type": "code",
   "execution_count": 10,
   "metadata": {},
   "outputs": [
    {
     "name": "stdout",
     "output_type": "stream",
     "text": [
      "division by zero\n"
     ]
    }
   ],
   "source": [
    "def percent(x,y):\n",
    "    try:\n",
    "        return round(x/y*100,2)\n",
    "    except Exception as e:\n",
    "        print(e)\n",
    "percent(50,0)"
   ]
  },
  {
   "cell_type": "markdown",
   "metadata": {},
   "source": [
    "## Debugging Practice\n",
    "We will look at an example of code for performing bubble sort, an algorithm for sorting a list. In reality, we can use sort functions that are more optimized when we need to sort a list and don't have to write this from scratch, but it is a good exercise!"
   ]
  },
  {
   "cell_type": "code",
   "execution_count": 49,
   "metadata": {},
   "outputs": [
    {
     "ename": "IndexError",
     "evalue": "list index out of range",
     "output_type": "error",
     "traceback": [
      "\u001b[0;31m---------------------------------------------------------------------------\u001b[0m",
      "\u001b[0;31mIndexError\u001b[0m                                Traceback (most recent call last)",
      "Cell \u001b[0;32mIn[49], line 8\u001b[0m\n\u001b[1;32m      5\u001b[0m                 arr[j], arr[j\u001b[38;5;241m+\u001b[39m\u001b[38;5;241m1\u001b[39m] \u001b[38;5;241m=\u001b[39m arr[j\u001b[38;5;241m+\u001b[39m\u001b[38;5;241m1\u001b[39m], arr[j]\n\u001b[1;32m      7\u001b[0m numbers \u001b[38;5;241m=\u001b[39m [\u001b[38;5;241m64\u001b[39m, \u001b[38;5;241m-\u001b[39m\u001b[38;5;241m1\u001b[39m, \u001b[38;5;241m12\u001b[39m, \u001b[38;5;241m22\u001b[39m, \u001b[38;5;241m22\u001b[39m, \u001b[38;5;241m56\u001b[39m, \u001b[38;5;241m90\u001b[39m]\n\u001b[0;32m----> 8\u001b[0m \u001b[43mbubble_sort\u001b[49m\u001b[43m(\u001b[49m\u001b[43mnumbers\u001b[49m\u001b[43m)\u001b[49m\n\u001b[1;32m     10\u001b[0m \u001b[38;5;28mprint\u001b[39m(\u001b[38;5;124m\"\u001b[39m\u001b[38;5;124mSorted array is:\u001b[39m\u001b[38;5;124m\"\u001b[39m, numbers)\n",
      "Cell \u001b[0;32mIn[49], line 4\u001b[0m, in \u001b[0;36mbubble_sort\u001b[0;34m(arr)\u001b[0m\n\u001b[1;32m      2\u001b[0m \u001b[38;5;28;01mfor\u001b[39;00m i \u001b[38;5;129;01min\u001b[39;00m \u001b[38;5;28mrange\u001b[39m(\u001b[38;5;28mlen\u001b[39m(numbers)):\n\u001b[1;32m      3\u001b[0m     \u001b[38;5;28;01mfor\u001b[39;00m j \u001b[38;5;129;01min\u001b[39;00m \u001b[38;5;28mrange\u001b[39m(\u001b[38;5;241m0\u001b[39m, \u001b[38;5;28mlen\u001b[39m(numbers)\u001b[38;5;241m-\u001b[39mi):\n\u001b[0;32m----> 4\u001b[0m         \u001b[38;5;28;01mif\u001b[39;00m arr[j] \u001b[38;5;241m>\u001b[39m \u001b[43marr\u001b[49m\u001b[43m[\u001b[49m\u001b[43mj\u001b[49m\u001b[38;5;241;43m+\u001b[39;49m\u001b[38;5;241;43m1\u001b[39;49m\u001b[43m]\u001b[49m:\n\u001b[1;32m      5\u001b[0m             arr[j], arr[j\u001b[38;5;241m+\u001b[39m\u001b[38;5;241m1\u001b[39m] \u001b[38;5;241m=\u001b[39m arr[j\u001b[38;5;241m+\u001b[39m\u001b[38;5;241m1\u001b[39m], arr[j]\n",
      "\u001b[0;31mIndexError\u001b[0m: list index out of range"
     ]
    }
   ],
   "source": [
    "def bubble_sort(arr):\n",
    "    for i in range(len(numbers)):\n",
    "        for j in range(0, len(numbers)-i):\n",
    "            if arr[j] > arr[j+1]:\n",
    "                arr[j], arr[j+1] = arr[j+1], arr[j]\n",
    "\n",
    "numbers = [64, -1, 12, 22, 22, 56, 90]\n",
    "bubble_sort(numbers)\n",
    "\n",
    "print(\"Sorted array is:\", numbers)"
   ]
  },
  {
   "cell_type": "markdown",
   "metadata": {},
   "source": [
    "Hmm, why might we be getting this list out of range error? To start, we can add a few print statements and try to explain what's going on in the code"
   ]
  },
  {
   "cell_type": "code",
   "execution_count": 37,
   "metadata": {},
   "outputs": [
    {
     "name": "stdout",
     "output_type": "stream",
     "text": [
      "0 0\n",
      "[-1, 64, 90, 22, 22, 56, 12]\n",
      "0 1\n",
      "[-1, 64, 90, 22, 22, 56, 12]\n",
      "0 2\n",
      "[-1, 64, 22, 90, 22, 56, 12]\n",
      "0 3\n",
      "[-1, 64, 22, 22, 90, 56, 12]\n",
      "0 4\n",
      "[-1, 64, 22, 22, 56, 90, 12]\n",
      "0 5\n",
      "[-1, 64, 22, 22, 56, 12, 90]\n",
      "0 6\n"
     ]
    },
    {
     "ename": "IndexError",
     "evalue": "list index out of range",
     "output_type": "error",
     "traceback": [
      "\u001b[0;31m---------------------------------------------------------------------------\u001b[0m",
      "\u001b[0;31mIndexError\u001b[0m                                Traceback (most recent call last)",
      "Cell \u001b[0;32mIn[37], line 10\u001b[0m\n\u001b[1;32m      7\u001b[0m             \u001b[38;5;28mprint\u001b[39m(arr)\n\u001b[1;32m      9\u001b[0m numbers \u001b[38;5;241m=\u001b[39m [\u001b[38;5;241m64\u001b[39m, \u001b[38;5;241m-\u001b[39m\u001b[38;5;241m1\u001b[39m, \u001b[38;5;241m90\u001b[39m, \u001b[38;5;241m22\u001b[39m, \u001b[38;5;241m22\u001b[39m, \u001b[38;5;241m56\u001b[39m, \u001b[38;5;241m12\u001b[39m]\n\u001b[0;32m---> 10\u001b[0m \u001b[43mbubble_sort\u001b[49m\u001b[43m(\u001b[49m\u001b[43mnumbers\u001b[49m\u001b[43m)\u001b[49m\n\u001b[1;32m     12\u001b[0m \u001b[38;5;28mprint\u001b[39m(\u001b[38;5;124m\"\u001b[39m\u001b[38;5;124mSorted array is:\u001b[39m\u001b[38;5;124m\"\u001b[39m, numbers)\n",
      "Cell \u001b[0;32mIn[37], line 5\u001b[0m, in \u001b[0;36mbubble_sort\u001b[0;34m(arr)\u001b[0m\n\u001b[1;32m      3\u001b[0m \u001b[38;5;28;01mfor\u001b[39;00m j \u001b[38;5;129;01min\u001b[39;00m \u001b[38;5;28mrange\u001b[39m(\u001b[38;5;241m0\u001b[39m, \u001b[38;5;28mlen\u001b[39m(numbers)\u001b[38;5;241m-\u001b[39mi): \u001b[38;5;66;03m#for each of these, we will then iterate through previous values in the list as these are the only remaining \"unplaced\" values\u001b[39;00m\n\u001b[1;32m      4\u001b[0m     \u001b[38;5;28mprint\u001b[39m(i,j)\n\u001b[0;32m----> 5\u001b[0m     \u001b[38;5;28;01mif\u001b[39;00m arr[j] \u001b[38;5;241m>\u001b[39m \u001b[43marr\u001b[49m\u001b[43m[\u001b[49m\u001b[43mj\u001b[49m\u001b[38;5;241;43m+\u001b[39;49m\u001b[38;5;241;43m1\u001b[39;49m\u001b[43m]\u001b[49m: \u001b[38;5;66;03m#swaps values if the value is greater than the following value\u001b[39;00m\n\u001b[1;32m      6\u001b[0m         arr[j], arr[j\u001b[38;5;241m+\u001b[39m\u001b[38;5;241m1\u001b[39m] \u001b[38;5;241m=\u001b[39m arr[j\u001b[38;5;241m+\u001b[39m\u001b[38;5;241m1\u001b[39m], arr[j]\n\u001b[1;32m      7\u001b[0m     \u001b[38;5;28mprint\u001b[39m(arr)\n",
      "\u001b[0;31mIndexError\u001b[0m: list index out of range"
     ]
    }
   ],
   "source": [
    "def bubble_sort(arr):\n",
    "    for i in range(len(numbers)): #iterates through all values in numbers\n",
    "        for j in range(0, len(numbers)-i): #for each of these, we will then iterate through previous values in the list as these are the only remaining \"unplaced\" values\n",
    "            print(i,j)\n",
    "            if arr[j] > arr[j+1]: #swaps values if the value is greater than the following value\n",
    "                arr[j], arr[j+1] = arr[j+1], arr[j]\n",
    "            print(arr)\n",
    "\n",
    "numbers = [64, -1, 90, 22, 22, 56, 12]\n",
    "bubble_sort(numbers)\n",
    "\n",
    "print(\"Sorted array is:\", numbers)"
   ]
  },
  {
   "cell_type": "markdown",
   "metadata": {},
   "source": [
    "It looks like the algorithm is performing well up until the point where it runs into the list out of range error. Let's try to use the debugger feature instead."
   ]
  },
  {
   "cell_type": "code",
   "execution_count": 50,
   "metadata": {},
   "outputs": [
    {
     "name": "stdout",
     "output_type": "stream",
     "text": [
      "0 0\n",
      "[-1, 64, 90, 22, 22, 56, 12]\n",
      "0 1\n",
      "[-1, 64, 90, 22, 22, 56, 12]\n",
      "0 2\n",
      "[-1, 64, 22, 90, 22, 56, 12]\n",
      "0 3\n",
      "[-1, 64, 22, 22, 90, 56, 12]\n",
      "0 4\n",
      "[-1, 64, 22, 22, 56, 90, 12]\n",
      "0 5\n",
      "[-1, 64, 22, 22, 56, 12, 90]\n",
      "0 6\n"
     ]
    },
    {
     "ename": "IndexError",
     "evalue": "list index out of range",
     "output_type": "error",
     "traceback": [
      "\u001b[0;31m---------------------------------------------------------------------------\u001b[0m",
      "\u001b[0;31mIndexError\u001b[0m                                Traceback (most recent call last)",
      "Cell \u001b[0;32mIn[50], line 10\u001b[0m\n\u001b[1;32m      7\u001b[0m             \u001b[38;5;28mprint\u001b[39m(arr)\n\u001b[1;32m      9\u001b[0m numbers \u001b[38;5;241m=\u001b[39m [\u001b[38;5;241m64\u001b[39m, \u001b[38;5;241m-\u001b[39m\u001b[38;5;241m1\u001b[39m, \u001b[38;5;241m90\u001b[39m, \u001b[38;5;241m22\u001b[39m, \u001b[38;5;241m22\u001b[39m, \u001b[38;5;241m56\u001b[39m, \u001b[38;5;241m12\u001b[39m]\n\u001b[0;32m---> 10\u001b[0m \u001b[43mbubble_sort\u001b[49m\u001b[43m(\u001b[49m\u001b[43mnumbers\u001b[49m\u001b[43m)\u001b[49m\n\u001b[1;32m     12\u001b[0m \u001b[38;5;28mprint\u001b[39m(\u001b[38;5;124m\"\u001b[39m\u001b[38;5;124mSorted array is:\u001b[39m\u001b[38;5;124m\"\u001b[39m, numbers)\n",
      "Cell \u001b[0;32mIn[50], line 5\u001b[0m, in \u001b[0;36mbubble_sort\u001b[0;34m(arr)\u001b[0m\n\u001b[1;32m      3\u001b[0m \u001b[38;5;28;01mfor\u001b[39;00m j \u001b[38;5;129;01min\u001b[39;00m \u001b[38;5;28mrange\u001b[39m(\u001b[38;5;241m0\u001b[39m, \u001b[38;5;28mlen\u001b[39m(numbers)\u001b[38;5;241m-\u001b[39mi): \u001b[38;5;66;03m#for each of these, we will then iterate through previous values in the list as these are the only remaining \"unplaced\" values\u001b[39;00m\n\u001b[1;32m      4\u001b[0m     \u001b[38;5;28mprint\u001b[39m(i,j)\n\u001b[0;32m----> 5\u001b[0m     \u001b[38;5;28;01mif\u001b[39;00m arr[j] \u001b[38;5;241m>\u001b[39m \u001b[43marr\u001b[49m\u001b[43m[\u001b[49m\u001b[43mj\u001b[49m\u001b[38;5;241;43m+\u001b[39;49m\u001b[38;5;241;43m1\u001b[39;49m\u001b[43m]\u001b[49m: \u001b[38;5;66;03m#swaps values if the value is greater than the following value\u001b[39;00m\n\u001b[1;32m      6\u001b[0m         arr[j], arr[j\u001b[38;5;241m+\u001b[39m\u001b[38;5;241m1\u001b[39m] \u001b[38;5;241m=\u001b[39m arr[j\u001b[38;5;241m+\u001b[39m\u001b[38;5;241m1\u001b[39m], arr[j]\n\u001b[1;32m      7\u001b[0m     \u001b[38;5;28mprint\u001b[39m(arr)\n",
      "\u001b[0;31mIndexError\u001b[0m: list index out of range"
     ]
    }
   ],
   "source": [
    "def bubble_sort(arr):\n",
    "    for i in range(len(numbers)): #iterates through all values in numbers\n",
    "        for j in range(0, len(numbers)-i): #for each of these, we will then iterate through previous values in the list as these are the only remaining \"unplaced\" values\n",
    "            print(i,j)\n",
    "            if arr[j] > arr[j+1]: #swaps values if the value is greater than the following value\n",
    "                arr[j], arr[j+1] = arr[j+1], arr[j]\n",
    "            print(arr)\n",
    "\n",
    "numbers = [64, -1, 90, 22, 22, 56, 12]\n",
    "bubble_sort(numbers)\n",
    "\n",
    "print(\"Sorted array is:\", numbers)"
   ]
  },
  {
   "cell_type": "markdown",
   "metadata": {},
   "source": [
    "By stepping into the code, we can see that it is trying to access an item at index 7, but index 7 does not exist, which yields the out of range error! Below is the corrected code:"
   ]
  },
  {
   "cell_type": "code",
   "execution_count": 45,
   "metadata": {},
   "outputs": [
    {
     "name": "stdout",
     "output_type": "stream",
     "text": [
      "Sorted array is: [-1, 12, 22, 22, 56, 64, 90]\n"
     ]
    }
   ],
   "source": [
    "def bubble_sort(arr):\n",
    "    for i in range(len(numbers)): #iterates through all values in numbers\n",
    "        for j in range(0, len(numbers)-i-1): #for each of these, we will then iterate through previous values in the list as these are the only remaining \"unplaced\" values\n",
    "            if arr[j] > arr[j+1]: #swaps values if the value is greater than the following value\n",
    "                arr[j], arr[j+1] = arr[j+1], arr[j]\n",
    "\n",
    "numbers = [64, -1, 90, 22, 22, 56, 12]\n",
    "bubble_sort(numbers)\n",
    "\n",
    "print(\"Sorted array is:\", numbers)"
   ]
  }
 ],
 "metadata": {
  "kernelspec": {
   "display_name": "csprimers",
   "language": "python",
   "name": "python3"
  },
  "language_info": {
   "codemirror_mode": {
    "name": "ipython",
    "version": 3
   },
   "file_extension": ".py",
   "mimetype": "text/x-python",
   "name": "python",
   "nbconvert_exporter": "python",
   "pygments_lexer": "ipython3",
   "version": "3.9.19"
  }
 },
 "nbformat": 4,
 "nbformat_minor": 2
}
