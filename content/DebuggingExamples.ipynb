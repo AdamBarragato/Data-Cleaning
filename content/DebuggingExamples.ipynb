{
 "cells": [
  {
   "cell_type": "markdown",
   "metadata": {},
   "source": [
    "# Module 5 Examples - Errors and Debugging"
   ]
  },
  {
   "cell_type": "code",
   "execution_count": null,
   "metadata": {},
   "outputs": [],
   "source": [
    "import pandas as pd\n",
    "from IPython.core.interactiveshell import InteractiveShell\n",
    "InteractiveShell.ast_node_interactivity = \"all\"\n",
    "pd.options.display.max_columns = None\n",
    "listings = pd.read_csv('Chicago_airbnb_listings.csv')\n"
   ]
  },
  {
   "cell_type": "markdown",
   "metadata": {},
   "source": [
    "Syntax Errors will prevent your code from running:"
   ]
  },
  {
   "cell_type": "code",
   "execution_count": null,
   "metadata": {},
   "outputs": [],
   "source": [
    "def percent(x,y):\n",
    "    return round((x/y*100,2)\n",
    "percent(50,100)"
   ]
  },
  {
   "cell_type": "markdown",
   "metadata": {},
   "source": [
    "Whereas other errors will throw exceptions that can be handled, if desired (but execution still stops in the meantime)"
   ]
  },
  {
   "cell_type": "code",
   "execution_count": null,
   "metadata": {},
   "outputs": [],
   "source": [
    "def percent(x,y):\n",
    "    return round(x/y*100,2)\n",
    "percent(50,0)"
   ]
  },
  {
   "cell_type": "markdown",
   "metadata": {},
   "source": [
    "While we could conceivably use if/else statements to handle this, it is more robust to use errors and exceptions. "
   ]
  },
  {
   "cell_type": "code",
   "execution_count": null,
   "metadata": {},
   "outputs": [],
   "source": [
    "#this example tries to run the code, but if it would throw an exception instead just prints a statement instead of blocking the execution of code\n",
    "def percent(x,y):\n",
    "    try:\n",
    "        return round(x/y*100,2)\n",
    "    except ZeroDivisionError:\n",
    "        print(\"Can't divide by zero -- pick another number!\")\n",
    "percent(50,0)"
   ]
  },
  {
   "cell_type": "markdown",
   "metadata": {},
   "source": [
    "As a generic solution, you can also except any exception for debugging purposes, but this is usually not the best solution in the long run because it can lead to things failing silently, particularly if you don't save the actual exception somewhere"
   ]
  },
  {
   "cell_type": "code",
   "execution_count": null,
   "metadata": {},
   "outputs": [],
   "source": [
    "def percent(x,y):\n",
    "    try:\n",
    "        return round(x/y*100,2)\n",
    "    except Exception as e:\n",
    "        print(e)\n",
    "percent(50,0)"
   ]
  },
  {
   "cell_type": "markdown",
   "metadata": {},
   "source": [
    "## Debugging Practice\n",
    "We will look at an example of code for performing bubble sort, an algorithm for sorting a list. In reality, we can use sort functions that are more optimized when we need to sort a list and don't have to write this from scratch, but it is a good exercise!"
   ]
  },
  {
   "cell_type": "code",
   "execution_count": null,
   "metadata": {},
   "outputs": [],
   "source": [
    "def bubble_sort(arr):\n",
    "    for i in range(len(numbers)):\n",
    "        for j in range(0, len(numbers)-i):\n",
    "            if arr[j] > arr[j+1]:\n",
    "                arr[j], arr[j+1] = arr[j+1], arr[j]\n",
    "\n",
    "numbers = [64, -1, 12, 22, 22, 56, 90]\n",
    "bubble_sort(numbers)\n",
    "\n",
    "print(\"Sorted array is:\", numbers)"
   ]
  },
  {
   "cell_type": "markdown",
   "metadata": {},
   "source": [
    "Hmm, why might we be getting this list out of range error? To start, we can add a few print statements and try to explain what's going on in the code"
   ]
  },
  {
   "cell_type": "code",
   "execution_count": null,
   "metadata": {},
   "outputs": [],
   "source": [
    "def bubble_sort(arr):\n",
    "    for i in range(len(numbers)): #iterates through all values in numbers\n",
    "        for j in range(0, len(numbers)-i): #for each of these, we will then iterate through previous values in the list as these are the only remaining \"unplaced\" values\n",
    "            print(i,j)\n",
    "            if arr[j] > arr[j+1]: #swaps values if the value is greater than the following value\n",
    "                arr[j], arr[j+1] = arr[j+1], arr[j]\n",
    "            print(arr)\n",
    "\n",
    "numbers = [64, -1, 90, 22, 22, 56, 12]\n",
    "bubble_sort(numbers)\n",
    "\n",
    "print(\"Sorted array is:\", numbers)"
   ]
  },
  {
   "cell_type": "markdown",
   "metadata": {},
   "source": [
    "It looks like the algorithm is performing well up until the point where it runs into the list out of range error. Let's try to use the debugger feature instead."
   ]
  },
  {
   "cell_type": "code",
   "execution_count": null,
   "metadata": {},
   "outputs": [],
   "source": [
    "def bubble_sort(arr):\n",
    "    for i in range(len(numbers)): #iterates through all values in numbers\n",
    "        for j in range(0, len(numbers)-i): #for each of these, we will then iterate through previous values in the list as these are the only remaining \"unplaced\" values\n",
    "            print(i,j)\n",
    "            if arr[j] > arr[j+1]: #swaps values if the value is greater than the following value\n",
    "                arr[j], arr[j+1] = arr[j+1], arr[j]\n",
    "            print(arr)\n",
    "\n",
    "numbers = [64, -1, 90, 22, 22, 56, 12]\n",
    "bubble_sort(numbers)\n",
    "\n",
    "print(\"Sorted array is:\", numbers)"
   ]
  },
  {
   "cell_type": "markdown",
   "metadata": {},
   "source": [
    "By stepping into the code, we can see that it is trying to access an item at index 7, but index 7 does not exist, which yields the out of range error! Below is the corrected code:"
   ]
  },
  {
   "cell_type": "code",
   "execution_count": null,
   "metadata": {},
   "outputs": [],
   "source": [
    "def bubble_sort(arr):\n",
    "    for i in range(len(numbers)): #iterates through all values in numbers\n",
    "        for j in range(0, len(numbers)-i-1): #for each of these, we will then iterate through previous values in the list as these are the only remaining \"unplaced\" values\n",
    "            if arr[j] > arr[j+1]: #swaps values if the value is greater than the following value\n",
    "                arr[j], arr[j+1] = arr[j+1], arr[j]\n",
    "\n",
    "numbers = [64, -1, 90, 22, 22, 56, 12]\n",
    "bubble_sort(numbers)\n",
    "\n",
    "print(\"Sorted array is:\", numbers)"
   ]
  }
 ],
 "metadata": {
  "kernelspec": {
   "display_name": "csprimers",
   "language": "python",
   "name": "python3"
  },
  "language_info": {
   "codemirror_mode": {
    "name": "ipython",
    "version": 3
   },
   "file_extension": ".py",
   "mimetype": "text/x-python",
   "name": "python",
   "nbconvert_exporter": "python",
   "pygments_lexer": "ipython3",
   "version": "3.9.19"
  }
 },
 "nbformat": 4,
 "nbformat_minor": 2
}
